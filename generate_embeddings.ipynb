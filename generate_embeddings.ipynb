{
 "cells": [
  {
   "cell_type": "code",
   "execution_count": 18,
   "id": "expensive-psychiatry",
   "metadata": {},
   "outputs": [],
   "source": [
    "filename= 'online_forum'\n"
   ]
  },
  {
   "cell_type": "code",
   "execution_count": 19,
   "id": "finnish-greeting",
   "metadata": {},
   "outputs": [],
   "source": [
    "df = pd.read_csv('%s.tsv'%filename,sep='\\t')"
   ]
  },
  {
   "cell_type": "markdown",
   "id": "amber-briefs",
   "metadata": {},
   "source": [
    "# Encode sentences\n"
   ]
  },
  {
   "cell_type": "code",
   "execution_count": 21,
   "id": "exempt-hunter",
   "metadata": {},
   "outputs": [],
   "source": [
    "import numpy as np\n",
    "from sentence_transformers import SentenceTransformer\n",
    "model = SentenceTransformer('all-mpnet-base-v2')"
   ]
  },
  {
   "cell_type": "code",
   "execution_count": 22,
   "id": "hairy-remainder",
   "metadata": {},
   "outputs": [],
   "source": [
    "from nltk.tokenize import sent_tokenize\n",
    "\n",
    "full_list = []\n",
    "for c in df['response']:\n",
    "    try:\n",
    "        full_list.extend(sent_tokenize(c))\n",
    "    except TypeError:\n",
    "        print(c)\n",
    "sentence_set = list(set(full_list))"
   ]
  },
  {
   "cell_type": "code",
   "execution_count": 23,
   "id": "binding-nirvana",
   "metadata": {},
   "outputs": [],
   "source": [
    "embeddings = model.encode(sentence_set)"
   ]
  },
  {
   "cell_type": "code",
   "execution_count": 24,
   "id": "compliant-andrews",
   "metadata": {},
   "outputs": [],
   "source": [
    "import pickle\n",
    "emb_dict = {}\n",
    "for i in range(len(sentence_set)):\n",
    "    emb_dict[sentence_set[i]] = embeddings[i]\n",
    "\n",
    "with open('data/%s_sentence_embeddings.pickle'%filename, 'wb') as handle:\n",
    "    pickle.dump(emb_dict, handle, protocol=pickle.HIGHEST_PROTOCOL)\n"
   ]
  },
  {
   "cell_type": "markdown",
   "id": "fewer-power",
   "metadata": {},
   "source": [
    "# Encode all responses"
   ]
  },
  {
   "cell_type": "code",
   "execution_count": 26,
   "id": "finite-result",
   "metadata": {},
   "outputs": [],
   "source": [
    "embeddings = model.encode(df.response)\n",
    "df['embeddings'] = list(embeddings)\n",
    "df.to_pickle(\"data/%s.pickle\"%filename)"
   ]
  }
 ],
 "metadata": {
  "kernelspec": {
   "display_name": "Python 3",
   "language": "python",
   "name": "python3"
  },
  "language_info": {
   "codemirror_mode": {
    "name": "ipython",
    "version": 3
   },
   "file_extension": ".py",
   "mimetype": "text/x-python",
   "name": "python",
   "nbconvert_exporter": "python",
   "pygments_lexer": "ipython3",
   "version": "3.9.16"
  }
 },
 "nbformat": 4,
 "nbformat_minor": 5
}
